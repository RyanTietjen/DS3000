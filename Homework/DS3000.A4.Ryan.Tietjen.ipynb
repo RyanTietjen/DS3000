{
 "cells": [
  {
   "cell_type": "markdown",
   "metadata": {},
   "source": [
    "# DS 3000 - Assignment 4\n",
    "\n",
    "**Student Name**: Ryan Tietjen\n",
    "\n",
    "**Date**: 02/04/24\n",
    "\n",
    "\n",
    "### Submission Instructions\n",
    "Submit this `ipynb` file to canvas.\n",
    "\n",
    "The `ipynb` format stores outputs from the last time you ran the notebook.  (When you open a notebook it has the figures and outputs of the last time you ran it too).  To ensure that your submitted `ipynb` file represents your latest code, make sure to give a fresh run `Kernel > Restart & Run All` just before uploading the `ipynb` file to Canvas.\n",
    "\n",
    "### Academic Integrity\n",
    "\n",
    "**Writing your homework is an individual effort.**  You may discuss general python problems with other students but under no circumstances should you observe another student's code which was written for this assignment, from this year or past years.  Pop into office hours or DM us in MS Teams if you have a specific question about your work or if you would like another pair of eyes or talk through your code.\n",
    "\n",
    "Don't forget to cite websites which helped you solve a problem in a unique way.  You can do this in markdown near the code or with a simple one-line comment. You do not need to cite the official python documentation.\n",
    "\n",
    "**Documentation / style counts for credit**  Please refer to the Pep-8 style, to improve the readability and consistency of your Python code. For more information, read the following article [How to Write Beautiful Python Code With PEP 8](https://realpython.com/python-pep8/) or ask your TA's for tips.\n",
    "\n",
    "**NOTE:<span style='color:red'> Write python expressions to answer ALL questions below and ensure that you use the `print()` function to display the output.</span>** Each question should be answered in a new code cell. For example, your solution for question 1.1 should be in a different code cell from your solution for question 1.2."
   ]
  },
  {
   "cell_type": "code",
   "execution_count": null,
   "metadata": {},
   "outputs": [],
   "source": []
  },
  {
   "cell_type": "markdown",
   "metadata": {},
   "source": [
    "## Data Science Problem (50 pts)\n",
    "### Instructions\n",
    "\n",
    "You are hired as a Data Scientist for the NYC Taxi and Limousine Commission (TLC) and this company routinely collects trip data from all licensed cabs in NY. Your team would like to use this data in the future to understand how New Yorkers use these taxis. Your first assignment is to **analyze the data of the Green Taxis, and determine if its a viable source.**\n",
    "\n",
    "Your supervisor has requested that you perform your analysis using data from February 2023 and would like for you to present your findings during the next team meeting. Use a Jupyter notebook to explain your data wrangling and analytical steps to your colleagues. \n",
    "\n",
    "**Data & Documentation**\n",
    "\n",
    "- **Data Source:** https://d37ci6vzurychx.cloudfront.net/trip-data/green_tripdata_2023-02.parquet\n",
    "- **Data Dictionary:** [Green Trips Data Dictionary](https://www1.nyc.gov/assets/tlc/downloads/pdf/data_dictionary_trip_records_green.pdf).\n",
    "\n",
    "The TLC trip record data and a description of the initiative can be found at the following link: https://www1.nyc.gov/site/tlc/about/tlc-trip-record-data.page\n",
    "\n",
    "**`Note:`** Ensure that you explain the results from each question.\n",
    "\n",
    "\n",
    "**In this assignment you will use the Pandas library. Pandas allows us to load data that's stored in a various formats, e.g. excel, csv, txt, parquet, etc. In this assignment, you will learn to read data in parquet format which is one of the preferred formats when working with `Big Data`. [Click here to learn more about parquet files](https://towardsdatascience.com/csv-files-for-storage-no-thanks-theres-a-better-option-72c78a414d1d)**\n",
    "\n",
    "I also provided starter code below to help you to read the data in parquet format. First, you'll need to install a new library called *fastparquet*."
   ]
  },
  {
   "cell_type": "code",
   "execution_count": 1,
   "metadata": {},
   "outputs": [
    {
     "name": "stdout",
     "output_type": "stream",
     "text": [
      "Requirement already satisfied: fastparquet in c:\\users\\ryan4\\anaconda3\\lib\\site-packages (2023.10.1)\n",
      "Requirement already satisfied: pandas>=1.5.0 in c:\\users\\ryan4\\anaconda3\\lib\\site-packages (from fastparquet) (2.0.3)\n",
      "Requirement already satisfied: numpy>=1.20.3 in c:\\users\\ryan4\\anaconda3\\lib\\site-packages (from fastparquet) (1.24.3)\n",
      "Requirement already satisfied: cramjam>=2.3 in c:\\users\\ryan4\\anaconda3\\lib\\site-packages (from fastparquet) (2.8.1)\n",
      "Requirement already satisfied: fsspec in c:\\users\\ryan4\\anaconda3\\lib\\site-packages (from fastparquet) (2023.4.0)\n",
      "Requirement already satisfied: packaging in c:\\users\\ryan4\\anaconda3\\lib\\site-packages (from fastparquet) (23.1)\n",
      "Requirement already satisfied: python-dateutil>=2.8.2 in c:\\users\\ryan4\\anaconda3\\lib\\site-packages (from pandas>=1.5.0->fastparquet) (2.8.2)\n",
      "Requirement already satisfied: pytz>=2020.1 in c:\\users\\ryan4\\anaconda3\\lib\\site-packages (from pandas>=1.5.0->fastparquet) (2023.3.post1)\n",
      "Requirement already satisfied: tzdata>=2022.1 in c:\\users\\ryan4\\anaconda3\\lib\\site-packages (from pandas>=1.5.0->fastparquet) (2023.3)\n",
      "Requirement already satisfied: six>=1.5 in c:\\users\\ryan4\\anaconda3\\lib\\site-packages (from python-dateutil>=2.8.2->pandas>=1.5.0->fastparquet) (1.16.0)\n"
     ]
    }
   ],
   "source": [
    "#run this cell to install the fast parquet library\n",
    "!pip install fastparquet"
   ]
  },
  {
   "cell_type": "code",
   "execution_count": null,
   "metadata": {},
   "outputs": [],
   "source": []
  },
  {
   "cell_type": "markdown",
   "metadata": {},
   "source": [
    "## 1. Load the data\n",
    "Load the NYC Green Taxi Trip Records data directly from the URL into a data frame called tripdata_df. "
   ]
  },
  {
   "cell_type": "code",
   "execution_count": 2,
   "metadata": {},
   "outputs": [],
   "source": [
    "#let's load the data into a dataframe\n",
    "import pandas as pd\n",
    "\n",
    "tripdata_df = pd.read_parquet(path = 'https://d37ci6vzurychx.cloudfront.net/trip-data/green_tripdata_2023-02.parquet', #provide the URL to the data source\n",
    "                      engine = 'fastparquet')\n",
    "\n",
    "#Note: you'll notice two new things. 1) We are using a new function called `read_parquet()` which indicates that we are \n",
    "#      reading data in parquet format. 2) We used the fastparquet library as the engine. \n",
    "#      That's it! Pandas will load the data into a dataframe. You can now use the dataframe for EDA.\n",
    "\n",
    "# Reminder: How does Pandas read other file formats?\n",
    "# 1. Excel files: pd.read_excel()\n",
    "# 2. CSV Files: pd.read_csv()\n",
    "# ... and now you know how to read parquet files using pd.read_parquet()\n"
   ]
  },
  {
   "cell_type": "markdown",
   "metadata": {},
   "source": [
    "## 2. Inspect the Data (5 pts) \n",
    "Inspect the data and perform the following: \n",
    "1. display the dimensions, and indicate if the variables have suitable types.\n",
    "2. convert all variables to suitable types"
   ]
  },
  {
   "cell_type": "code",
   "execution_count": 3,
   "metadata": {},
   "outputs": [
    {
     "name": "stdout",
     "output_type": "stream",
     "text": [
      "(64809, 20)\n",
      "VendorID                        float64\n",
      "lpep_pickup_datetime     datetime64[us]\n",
      "lpep_dropoff_datetime    datetime64[us]\n",
      "store_and_fwd_flag               object\n",
      "RatecodeID                      float64\n",
      "PULocationID                    float64\n",
      "DOLocationID                    float64\n",
      "passenger_count                 float64\n",
      "trip_distance                   float64\n",
      "fare_amount                     float64\n",
      "extra                           float64\n",
      "mta_tax                         float64\n",
      "tip_amount                      float64\n",
      "tolls_amount                    float64\n",
      "ehail_fee                       float64\n",
      "improvement_surcharge           float64\n",
      "total_amount                    float64\n",
      "payment_type                    float64\n",
      "trip_type                       float64\n",
      "congestion_surcharge            float64\n",
      "dtype: object\n",
      "  VendorID lpep_pickup_datetime lpep_dropoff_datetime store_and_fwd_flag  \\\n",
      "0      1.0  2023-02-01 00:46:22   2023-02-01 01:05:57                  N   \n",
      "1      2.0  2023-02-01 00:05:09   2023-02-01 00:22:42                  N   \n",
      "2      2.0  2023-02-01 00:03:47   2023-02-01 00:27:30                  N   \n",
      "3      2.0  2023-01-31 23:30:56   2023-01-31 23:51:40                  N   \n",
      "4      2.0  2023-02-01 00:15:05   2023-02-01 00:26:02                  N   \n",
      "5      2.0  2023-02-01 00:16:10   2023-02-01 00:16:13                  N   \n",
      "6      2.0  2023-02-01 00:41:02   2023-02-01 00:52:02                  N   \n",
      "7      2.0  2023-02-01 00:44:48   2023-02-01 00:56:06                  N   \n",
      "8      2.0  2023-02-01 00:43:54   2023-02-01 00:49:35                  N   \n",
      "9      2.0  2023-02-01 00:34:40   2023-02-01 00:45:31                  N   \n",
      "\n",
      "  RatecodeID  PULocationID  DOLocationID  passenger_count  trip_distance  \\\n",
      "0        1.0          74.0         265.0              1.0          10.80   \n",
      "1        1.0         216.0         196.0              1.0           4.76   \n",
      "2        1.0           7.0         114.0              1.0           6.32   \n",
      "3        1.0          74.0         239.0              1.0           3.50   \n",
      "4        1.0          82.0         223.0              1.0           3.14   \n",
      "5        5.0           7.0           7.0              1.0           0.00   \n",
      "6        1.0          92.0         121.0              1.0           2.52   \n",
      "7        1.0         244.0          42.0              1.0           1.96   \n",
      "8        1.0          75.0          41.0              1.0           1.46   \n",
      "9        1.0          95.0         121.0              1.0           2.38   \n",
      "\n",
      "   fare_amount  extra  mta_tax  tip_amount  tolls_amount  ehail_fee  \\\n",
      "0         42.9    1.0      1.5        0.00           0.0        NaN   \n",
      "1         23.3    1.0      0.5        0.00           0.0        NaN   \n",
      "2         30.3    1.0      0.5        8.89           0.0        NaN   \n",
      "3         16.3    1.0      0.5        0.00           0.0        NaN   \n",
      "4         17.0    1.0      0.5        0.00           0.0        NaN   \n",
      "5         10.0    0.0      0.0        2.06           0.0        NaN   \n",
      "6         14.2    1.0      0.5        0.00           0.0        NaN   \n",
      "7         13.5    1.0      0.5        0.00           0.0        NaN   \n",
      "8          8.6    1.0      0.5        0.00           0.0        NaN   \n",
      "9         14.9    1.0      0.5        0.00           0.0        NaN   \n",
      "\n",
      "   improvement_surcharge  total_amount payment_type trip_type  \\\n",
      "0                    1.0         45.40          2.0       1.0   \n",
      "1                    1.0         25.80          2.0       1.0   \n",
      "2                    1.0         44.44          1.0       1.0   \n",
      "3                    1.0         21.55          2.0       1.0   \n",
      "4                    1.0         19.50          2.0       1.0   \n",
      "5                    0.3         12.36          1.0       2.0   \n",
      "6                    1.0         16.70          2.0       1.0   \n",
      "7                    1.0         16.00          2.0       1.0   \n",
      "8                    1.0         11.10          2.0       1.0   \n",
      "9                    1.0         17.40          1.0       1.0   \n",
      "\n",
      "   congestion_surcharge  \n",
      "0                  0.00  \n",
      "1                  0.00  \n",
      "2                  2.75  \n",
      "3                  2.75  \n",
      "4                  0.00  \n",
      "5                  0.00  \n",
      "6                  0.00  \n",
      "7                  0.00  \n",
      "8                  0.00  \n",
      "9                  0.00  \n",
      "VendorID                       category\n",
      "lpep_pickup_datetime     datetime64[us]\n",
      "lpep_dropoff_datetime    datetime64[us]\n",
      "store_and_fwd_flag             category\n",
      "RatecodeID                     category\n",
      "PULocationID                    float64\n",
      "DOLocationID                    float64\n",
      "passenger_count                 float64\n",
      "trip_distance                   float64\n",
      "fare_amount                     float64\n",
      "extra                           float64\n",
      "mta_tax                         float64\n",
      "tip_amount                      float64\n",
      "tolls_amount                    float64\n",
      "ehail_fee                       float64\n",
      "improvement_surcharge           float64\n",
      "total_amount                    float64\n",
      "payment_type                   category\n",
      "trip_type                      category\n",
      "congestion_surcharge            float64\n",
      "dtype: object\n"
     ]
    }
   ],
   "source": [
    "print(tripdata_df.shape)\n",
    "print(tripdata_df.dtypes)\n",
    "\n",
    "tripdata_df['VendorID'] = tripdata_df['VendorID'].astype('category')\n",
    "tripdata_df['store_and_fwd_flag'] = tripdata_df['store_and_fwd_flag'].astype('category')\n",
    "tripdata_df['trip_type'] = tripdata_df['trip_type'].astype('category')\n",
    "tripdata_df['RatecodeID'] = tripdata_df['RatecodeID'].astype('category')\n",
    "tripdata_df['payment_type'] = tripdata_df['payment_type'].astype('category')\n",
    "\n",
    "print(tripdata_df.head(10))\n",
    "\n",
    "print(tripdata_df.dtypes)"
   ]
  },
  {
   "cell_type": "markdown",
   "metadata": {},
   "source": [
    "## 3. Types of Data (2 pts) \n",
    "Are there any categorical data in this dataset. If they exist, demonstrate at least two categorical variables and indicate if they are nominal or ordinal (hint: read the data dictionary above which describes all fields in the data)"
   ]
  },
  {
   "cell_type": "code",
   "execution_count": 4,
   "metadata": {},
   "outputs": [
    {
     "name": "stdout",
     "output_type": "stream",
     "text": [
      "0    1.0\n",
      "1    1.0\n",
      "2    1.0\n",
      "3    1.0\n",
      "4    1.0\n",
      "5    5.0\n",
      "6    1.0\n",
      "7    1.0\n",
      "8    1.0\n",
      "9    1.0\n",
      "Name: RatecodeID, dtype: category\n",
      "Categories (7, float64): [1.0, 2.0, 3.0, 4.0, 5.0, 6.0, 99.0]\n",
      "0    2.0\n",
      "1    2.0\n",
      "2    1.0\n",
      "3    2.0\n",
      "4    2.0\n",
      "5    1.0\n",
      "6    2.0\n",
      "7    2.0\n",
      "8    2.0\n",
      "9    1.0\n",
      "Name: payment_type, dtype: category\n",
      "Categories (4, float64): [1.0, 2.0, 3.0, 4.0]\n"
     ]
    }
   ],
   "source": [
    "# There are five categorical data in this dataset: VendorID store_and_fwd_flag, RatecodeID, payment_type, and trip_type\n",
    "# For instance, RatecodeID and payment_type are both nominal data.\n",
    "print(tripdata_df['RatecodeID'].head(10))\n",
    "print(tripdata_df['payment_type'].head(10))"
   ]
  },
  {
   "cell_type": "markdown",
   "metadata": {},
   "source": [
    "## 4. Missing Values (10 pts) \n",
    "Evaluate the frequency of missing values in the dataset and perform the following:\n",
    "1. explain if missing values are an isolated case or a widespread issue? \n",
    "2. what method would you recommend to handle missing data?\n",
    "3. write the suitable code to handle the missing values."
   ]
  },
  {
   "cell_type": "code",
   "execution_count": 5,
   "metadata": {},
   "outputs": [
    {
     "name": "stdout",
     "output_type": "stream",
     "text": [
      "Checking initital null data occurances:\n",
      "VendorID                     0\n",
      "lpep_pickup_datetime         0\n",
      "lpep_dropoff_datetime        0\n",
      "store_and_fwd_flag        4821\n",
      "RatecodeID                4821\n",
      "PULocationID                 0\n",
      "DOLocationID                 0\n",
      "passenger_count           4821\n",
      "trip_distance                0\n",
      "fare_amount                  0\n",
      "extra                        0\n",
      "mta_tax                      0\n",
      "tip_amount                   0\n",
      "tolls_amount                 0\n",
      "ehail_fee                64809\n",
      "improvement_surcharge        0\n",
      "total_amount                 0\n",
      "payment_type              4821\n",
      "trip_type                 4826\n",
      "congestion_surcharge      4821\n",
      "dtype: int64\n",
      "Checking the last 4281 rows to see that they contain several null values\n",
      "      VendorID lpep_pickup_datetime lpep_dropoff_datetime store_and_fwd_flag  \\\n",
      "59985      2.0  2023-02-28 23:33:40   2023-02-28 23:42:16                  N   \n",
      "59986      2.0  2023-02-28 23:21:27   2023-02-28 23:36:36                  N   \n",
      "59987      2.0  2023-02-28 23:56:44   2023-03-01 00:02:15                  N   \n",
      "59988      2.0  2023-02-01 00:11:00   2023-02-01 00:19:00                NaN   \n",
      "59989      2.0  2023-02-01 01:52:00   2023-02-01 02:03:00                NaN   \n",
      "...        ...                  ...                   ...                ...   \n",
      "64804      2.0  2023-02-28 21:49:00   2023-02-28 22:04:00                NaN   \n",
      "64805      2.0  2023-02-28 21:05:00   2023-02-28 21:08:00                NaN   \n",
      "64806      2.0  2023-02-28 22:42:00   2023-02-28 22:59:00                NaN   \n",
      "64807      2.0  2023-02-28 23:21:00   2023-02-28 23:38:00                NaN   \n",
      "64808      2.0  2023-02-28 23:10:00   2023-02-28 23:15:00                NaN   \n",
      "\n",
      "      RatecodeID  PULocationID  DOLocationID  passenger_count  trip_distance  \\\n",
      "59985        1.0          74.0          24.0              1.0           1.50   \n",
      "59986        1.0          95.0         258.0              1.0           3.01   \n",
      "59987        5.0          41.0          41.0              1.0           1.02   \n",
      "59988        NaN         260.0         157.0              NaN           1.55   \n",
      "59989        NaN          83.0           7.0              NaN           2.36   \n",
      "...          ...           ...           ...              ...            ...   \n",
      "64804        NaN           7.0         263.0              NaN           3.83   \n",
      "64805        NaN          41.0          42.0              NaN           0.67   \n",
      "64806        NaN         166.0         141.0              NaN           3.91   \n",
      "64807        NaN          41.0         244.0              NaN           4.54   \n",
      "64808        NaN          75.0         140.0              NaN           2.61   \n",
      "\n",
      "       fare_amount  extra  mta_tax  tip_amount  tolls_amount  \\\n",
      "59985         9.30    1.0      0.5        0.00           0.0   \n",
      "59986        17.00    1.0      0.5        3.90           0.0   \n",
      "59987         8.00    0.0      0.0        0.00           0.0   \n",
      "59988        14.40    0.0      0.0        3.08           0.0   \n",
      "59989        14.64    0.0      0.0        2.82           0.0   \n",
      "...            ...    ...      ...         ...           ...   \n",
      "64804        16.70    0.0      0.0        2.00           0.0   \n",
      "64805        12.95    0.0      0.0        2.79           0.0   \n",
      "64806        19.60    0.0      0.0        3.50           0.0   \n",
      "64807        19.36    0.0      0.0        4.07           0.0   \n",
      "64808        13.18    0.0      0.0        3.39           0.0   \n",
      "\n",
      "       improvement_surcharge  total_amount payment_type trip_type  \\\n",
      "59985                    1.0         11.80          2.0       1.0   \n",
      "59986                    1.0         23.40          1.0       1.0   \n",
      "59987                    1.0          9.00          2.0       2.0   \n",
      "59988                    1.0         18.48          NaN       NaN   \n",
      "59989                    1.0         18.46          NaN       NaN   \n",
      "...                      ...           ...          ...       ...   \n",
      "64804                    1.0         22.45          NaN       NaN   \n",
      "64805                    1.0         16.74          NaN       NaN   \n",
      "64806                    1.0         26.85          NaN       NaN   \n",
      "64807                    1.0         24.43          NaN       NaN   \n",
      "64808                    1.0         20.32          NaN       NaN   \n",
      "\n",
      "       congestion_surcharge  \n",
      "59985                   0.0  \n",
      "59986                   0.0  \n",
      "59987                   0.0  \n",
      "59988                   NaN  \n",
      "59989                   NaN  \n",
      "...                     ...  \n",
      "64804                   NaN  \n",
      "64805                   NaN  \n",
      "64806                   NaN  \n",
      "64807                   NaN  \n",
      "64808                   NaN  \n",
      "\n",
      "[4824 rows x 19 columns]\n",
      "Checking null data after removing last 4821 rows\n",
      "VendorID                 0\n",
      "lpep_pickup_datetime     0\n",
      "lpep_dropoff_datetime    0\n",
      "store_and_fwd_flag       0\n",
      "RatecodeID               0\n",
      "PULocationID             0\n",
      "DOLocationID             0\n",
      "passenger_count          0\n",
      "trip_distance            0\n",
      "fare_amount              0\n",
      "extra                    0\n",
      "mta_tax                  0\n",
      "tip_amount               0\n",
      "tolls_amount             0\n",
      "improvement_surcharge    0\n",
      "total_amount             0\n",
      "payment_type             0\n",
      "trip_type                5\n",
      "congestion_surcharge     0\n",
      "dtype: int64\n",
      "Checking that the remaining 5 null values appear to be random:\n",
      "      VendorID lpep_pickup_datetime lpep_dropoff_datetime store_and_fwd_flag  \\\n",
      "10068      1.0  2023-02-05 17:59:21   2023-02-05 22:25:00                  N   \n",
      "19276      1.0  2023-02-09 18:16:23   2023-02-09 23:20:07                  N   \n",
      "39044      1.0  2023-02-18 18:12:39   2023-02-18 19:32:45                  N   \n",
      "39622      1.0  2023-02-19 00:15:00   2023-02-19 00:27:52                  N   \n",
      "58313      1.0  2023-02-28 09:05:40   2023-02-28 09:54:20                  N   \n",
      "\n",
      "      RatecodeID  PULocationID  DOLocationID  passenger_count  trip_distance  \\\n",
      "10068       99.0          14.0         123.0              1.0            7.7   \n",
      "19276       99.0          14.0         123.0              1.0            7.2   \n",
      "39044       99.0         149.0         232.0              1.0            7.3   \n",
      "39622       99.0         226.0          28.0              1.0            7.0   \n",
      "58313       99.0         180.0          10.0              1.0            3.5   \n",
      "\n",
      "       fare_amount  extra  mta_tax  tip_amount  tolls_amount  \\\n",
      "10068         26.2    0.0      1.5         0.0           0.0   \n",
      "19276         24.2    0.0      1.5         0.0           0.0   \n",
      "39044         29.2    0.0      1.5         0.0           0.0   \n",
      "39622         37.5    0.0      1.5         0.0           0.0   \n",
      "58313         24.5    0.0      1.5         0.0           0.0   \n",
      "\n",
      "       improvement_surcharge  total_amount payment_type trip_type  \\\n",
      "10068                    1.0          27.7          1.0       NaN   \n",
      "19276                    1.0          25.7          1.0       NaN   \n",
      "39044                    1.0          30.7          1.0       NaN   \n",
      "39622                    1.0          39.0          1.0       NaN   \n",
      "58313                    1.0          26.0          1.0       NaN   \n",
      "\n",
      "       congestion_surcharge  \n",
      "10068                   0.0  \n",
      "19276                   0.0  \n",
      "39044                   0.0  \n",
      "39622                   0.0  \n",
      "58313                   0.0  \n"
     ]
    }
   ],
   "source": [
    "print(\"Checking initital null data occurances:\")\n",
    "print(tripdata_df.isnull().sum())\n",
    "\n",
    "# It appears that every value of ehail_fee is empty, so it should be removed\n",
    "tripdata_df.drop('ehail_fee', axis=1, inplace=True)\n",
    "\n",
    "\n",
    "# In addition, it appears that the last 4821 rows are missing values for the columns: store_and_fwd_flag, \n",
    "# RatecodeID, passenger_count, payment_type, trip_type, congestion_surcharge, \n",
    "print(\"Checking the last 4281 rows to see that they contain several null values\")\n",
    "print(tripdata_df.tail(4824))\n",
    "\n",
    "#Since many consecutive rows are impacted by this, we will remove the last 4824 rows\n",
    "tripdata_df = tripdata_df[:-4821]\n",
    "\n",
    "print(\"Checking null data after removing last 4821 rows\")\n",
    "print(tripdata_df.isnull().sum())\n",
    "\n",
    "#There seems to be 5 more missing values in trip_type. Since they seem to be abritrary and infrequent, we will ignore them.\n",
    "# Noteably, whenever trip_type is null, RatecodeID == 99. We will remove these invalid rows in the next section.\n",
    "print(\"Checking that the remaining 5 null values appear to be random:\")\n",
    "print(tripdata_df[tripdata_df.isnull().any(axis=1)])"
   ]
  },
  {
   "cell_type": "markdown",
   "metadata": {},
   "source": [
    "## 5. Invalid Data (10 pts) \n",
    "Explore the data to determine if there are any invalid values and perform the following: \n",
    "1. demonstrate at least three issues that you found.\n",
    "2. write suitable code to handle the invalid data that you found."
   ]
  },
  {
   "cell_type": "code",
   "execution_count": 6,
   "metadata": {},
   "outputs": [
    {
     "name": "stdout",
     "output_type": "stream",
     "text": [
      "Initial number of instances where passenger_count == 0\n",
      "370\n",
      "Final number of instances where passenger_count == 0\n",
      "0\n",
      "Initial number of instances where RatecodeID == 99\n",
      "5\n",
      "Final number of instances where RatecodeID == 99\n",
      "0\n",
      "Initial number of instances where trip_distance == 0\n",
      "2677\n",
      "Final number of instances where trip_distance == 0\n",
      "0\n",
      "Initial number of instances where total_amount <= 0\n",
      "154\n",
      "Final number of instances where total_amount <= 0\n",
      "0\n"
     ]
    }
   ],
   "source": [
    "# There are 370 instances where there are 0 passengers. This should not be possible, so we will remove these rows.\n",
    "print(\"Initial number of instances where passenger_count == 0\")\n",
    "print(tripdata_df[tripdata_df['passenger_count'] == 0].shape[0])\n",
    "tripdata_df = tripdata_df[tripdata_df['passenger_count'] != 0]\n",
    "\n",
    "#Verify success\n",
    "print(\"Final number of instances where passenger_count == 0\")\n",
    "print(tripdata_df[tripdata_df['passenger_count'] == 0].shape[0])\n",
    "\n",
    "# There are 5 instances where RatecodeID is not 1-6. We will remove these rows\n",
    "print(\"Initial number of instances where RatecodeID == 99\")\n",
    "print(tripdata_df[tripdata_df['RatecodeID'] == 99].shape[0])\n",
    "tripdata_df = tripdata_df[tripdata_df['RatecodeID'] != 99]\n",
    "\n",
    "#Verify success\n",
    "print(\"Final number of instances where RatecodeID == 99\")\n",
    "print(tripdata_df[tripdata_df['RatecodeID'] == 0].shape[0])\n",
    "\n",
    "# There are 2677 instances where trip_distance is 0. We will remove these rows\n",
    "print(\"Initial number of instances where trip_distance == 0\")\n",
    "print(tripdata_df[tripdata_df['trip_distance'] == 0].shape[0])\n",
    "tripdata_df = tripdata_df[tripdata_df['trip_distance'] != 0]\n",
    "\n",
    "#Verify success\n",
    "print(\"Final number of instances where trip_distance == 0\")\n",
    "print(tripdata_df[tripdata_df['trip_distance'] == 0].shape[0])\n",
    "\n",
    "# There are 154 instances where total_amount is <= 0. We will remove these rows.\n",
    "print(\"Initial number of instances where total_amount <= 0\")\n",
    "print(tripdata_df[tripdata_df['total_amount'] <= 0].shape[0])\n",
    "tripdata_df = tripdata_df[tripdata_df['total_amount'] > 0]\n",
    "\n",
    "#Verify success\n",
    "print(\"Final number of instances where total_amount <= 0\")\n",
    "print(tripdata_df[tripdata_df['total_amount'] <= 0].shape[0])"
   ]
  },
  {
   "cell_type": "markdown",
   "metadata": {},
   "source": [
    "<span style='color:red'>**Answer the following questions using the prepared data.**</span>"
   ]
  },
  {
   "cell_type": "markdown",
   "metadata": {},
   "source": [
    "## 6. Data Visualization (10 pts) \n",
    "Create bar charts that show: \n",
    "1. the most common way that New Yorkers request/hail a cab. \n",
    "2. the most common pick-up locations (display the top 5 locations). \n",
    "3. the most common drop-off locations (display the top 5 locations). \n",
    "\n",
    "Explain each chart."
   ]
  },
  {
   "cell_type": "code",
   "execution_count": 7,
   "metadata": {},
   "outputs": [],
   "source": [
    "#Converts data that are needlessly float values to integers.\n",
    "#The reason this wasn't done in step 2 is because these values contained missing input\n",
    "tripdata_df['passenger_count'] = tripdata_df['passenger_count'].astype('int64')\n",
    "tripdata_df['PULocationID'] = tripdata_df['PULocationID'].astype('int64')\n",
    "tripdata_df['DOLocationID'] = tripdata_df['DOLocationID'].astype('int64')"
   ]
  },
  {
   "cell_type": "code",
   "execution_count": 8,
   "metadata": {},
   "outputs": [
    {
     "data": {
      "text/plain": [
       "<Axes: title={'center': 'Trip Types'}, xlabel='trip_type'>"
      ]
     },
     "execution_count": 8,
     "metadata": {},
     "output_type": "execute_result"
    },
    {
     "data": {
      "image/png": "[encoded data removed]",
      "text/plain": [
       "<Figure size 640x480 with 1 Axes>"
      ]
     },
     "metadata": {},
     "output_type": "display_data"
    }
   ],
   "source": [
    "#Shows the different ways that New Yorkers hail a cab. 1=Street-hail, 2= Dispatch\n",
    "tripdata_df['trip_type'].value_counts().plot(kind='bar', title='Trip Types')\n",
    "\n",
    "# It appears that the vast majority of New Yorkers hail a cab via street-hail."
   ]
  },
  {
   "cell_type": "code",
   "execution_count": 9,
   "metadata": {},
   "outputs": [
    {
     "data": {
      "text/plain": [
       "<Axes: title={'center': 'Top 5 Most Common Pick-Up Locations'}, xlabel='PULocationID'>"
      ]
     },
     "execution_count": 9,
     "metadata": {},
     "output_type": "execute_result"
    },
    {
     "data": {
      "image/png": "[encoded data removed]",
      "text/plain": [
       "<Figure size 640x480 with 1 Axes>"
      ]
     },
     "metadata": {},
     "output_type": "display_data"
    }
   ],
   "source": [
    "#Shows the top 5 most common pick-up locations\n",
    "tripdata_df['PULocationID'].value_counts().head(5).plot(kind='bar', title='Top 5 Most Common Pick-Up Locations')\n",
    "\n",
    "#It appears that the most common pick-up locations are location IDs 74, 75, 166, 41, and 95."
   ]
  },
  {
   "cell_type": "code",
   "execution_count": 10,
   "metadata": {},
   "outputs": [
    {
     "data": {
      "text/plain": [
       "<Axes: title={'center': 'Top 5 Most Common Drop-off Locations'}, xlabel='DOLocationID'>"
      ]
     },
     "execution_count": 10,
     "metadata": {},
     "output_type": "execute_result"
    },
    {
     "data": {
      "image/png": "[encoded data removed]",
      "text/plain": [
       "<Figure size 640x480 with 1 Axes>"
      ]
     },
     "metadata": {},
     "output_type": "display_data"
    }
   ],
   "source": [
    "#Shows the top 5 most common drop-off locations\n",
    "tripdata_df['DOLocationID'].value_counts().head(5).plot(kind='bar', title='Top 5 Most Common Drop-off Locations')\n",
    "\n",
    "#It appears that the most common drop-off locations are location IDs 74, 75, 236, 41, and 42."
   ]
  },
  {
   "cell_type": "markdown",
   "metadata": {},
   "source": [
    "## 7. Data Analysis (10 pts)\n",
    "Write suitable code to answer the following:\n",
    "1. On average, how far do New Yorkers usually travel using these taxis?\n",
    "2. What is the most expensive and least expensive trip? \n",
    "3. What is the minimum, average and maximum **tip amount** for all trips that are 1) under 2 miles and 2) over 2 miles (i.e. >= 2)? \n",
    "\n",
    "Explain the results."
   ]
  },
  {
   "cell_type": "code",
   "execution_count": 11,
   "metadata": {},
   "outputs": [
    {
     "name": "stdout",
     "output_type": "stream",
     "text": [
      "Mean trip distance (in miles):\n",
      "2.8334884294318625\n",
      "Most expensive trip (in dollars):\n",
      "322.35\n",
      "Least expensive trip (in dollars):\n",
      "1.01\n",
      "Lowest tip for trips that are under 2 miles(in dollars):\n",
      "0.0\n",
      "Average tip for trips that are under 2 miles(in dollars):\n",
      "1.3677164437346112\n",
      "Highest tip for trips that are under 2 miles(in dollars):\n",
      "80.0\n",
      "Lowest tip for trips that are 2 miles or over(in dollars):\n",
      "0.0\n",
      "Average tip for trips that are 2 miles or over(in dollars):\n",
      "2.9982239598922478\n",
      "Highest tip for trips that are 2 miles or over(in dollars):\n",
      "75.82\n"
     ]
    }
   ],
   "source": [
    "print(\"Mean trip distance (in miles):\")\n",
    "print(tripdata_df['trip_distance'].mean())\n",
    "\n",
    "print(\"Most expensive trip (in dollars):\")\n",
    "print(tripdata_df['total_amount'].max())\n",
    "\n",
    "print(\"Least expensive trip (in dollars):\")\n",
    "print(tripdata_df['total_amount'].min())\n",
    "\n",
    "under_2_miles = tripdata_df[tripdata_df['trip_distance'] < 2]\n",
    "print(\"Lowest tip for trips that are under 2 miles(in dollars):\")\n",
    "print(under_2_miles['tip_amount'].min())\n",
    "print(\"Average tip for trips that are under 2 miles(in dollars):\")\n",
    "print(under_2_miles['tip_amount'].mean())\n",
    "print(\"Highest tip for trips that are under 2 miles(in dollars):\")\n",
    "print(under_2_miles['tip_amount'].max())\n",
    "\n",
    "over_2_miles = tripdata_df[tripdata_df['trip_distance'] >= 2]\n",
    "print(\"Lowest tip for trips that are 2 miles or over(in dollars):\")\n",
    "print(over_2_miles['tip_amount'].min())\n",
    "print(\"Average tip for trips that are 2 miles or over(in dollars):\")\n",
    "print(over_2_miles['tip_amount'].mean())\n",
    "print(\"Highest tip for trips that are 2 miles or over(in dollars):\")\n",
    "print(over_2_miles['tip_amount'].max())\n",
    "\n",
    "#Data Analysis:\n",
    "#On average, New Yorkers take relatively short taxi rides at about 2.8 miles per ride. Some trips are very cheap,\n",
    "#at just one dollar, while others can be expensive, with one New Yorker paying fir a 322.35 dollar ride.\n",
    "#Regardless of trip distance, some New Yorkers don't tip. Similarly, trip distance doesn't appear to influence the \n",
    "#maximum tip a New Yorker will give. However, trips longer than 2 miles tend to have higher average tips than trips\n",
    "#shorter than 2 miles (About 3 dollars for trips >= 2 miles, but only about 1.37 dollars for trips < 2 miles)."
   ]
  },
  {
   "cell_type": "markdown",
   "metadata": {},
   "source": [
    "## 8. Findings (3 pts)\n",
    "Based on the preliminary analysis, is this data a viable source that can be used by your team in the future to understand how New Yorkers use these taxis? Justify your response."
   ]
  },
  {
   "cell_type": "code",
   "execution_count": 12,
   "metadata": {},
   "outputs": [],
   "source": [
    "#It is true that the original dataset contained some missing and invalid data. However, after cleaning, \n",
    "#this data should be a viable source to better understand how New Yorkers use these taxis. So long as this data set does\n",
    "#not contain any (very) unreasonable outliers or missing values, there is no good reason that this dataset should be avoided.\n",
    "#That being said, it is important to recognize that the data could still be flawed/biased even after an preliminary cleaning. "
   ]
  },
  {
   "cell_type": "code",
   "execution_count": null,
   "metadata": {},
   "outputs": [],
   "source": []
  }
 ],
 "metadata": {
  "kernelspec": {
   "display_name": "Python 3 (ipykernel)",
   "language": "python",
   "name": "python3"
  },
  "language_info": {
   "codemirror_mode": {
    "name": "ipython",
    "version": 3
   },
   "file_extension": ".py",
   "mimetype": "text/x-python",
   "name": "python",
   "nbconvert_exporter": "python",
   "pygments_lexer": "ipython3",
   "version": "3.11.5"
  }
 },
 "nbformat": 4,
 "nbformat_minor": 4
}
